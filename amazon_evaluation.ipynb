{
 "cells": [
  {
   "cell_type": "code",
   "execution_count": 1,
   "id": "47078bf0-917e-40cd-b42c-8c9199d05d6f",
   "metadata": {},
   "outputs": [
    {
     "data": {
      "text/html": [
       "\n",
       "    <div>\n",
       "      \n",
       "      <progress value='125' max='125' style='width:300px; height:20px; vertical-align: middle;'></progress>\n",
       "      [125/125 00:16]\n",
       "    </div>\n",
       "    "
      ],
      "text/plain": [
       "<IPython.core.display.HTML object>"
      ]
     },
     "metadata": {},
     "output_type": "display_data"
    }
   ],
   "source": [
    "from transformers import DistilBertForSequenceClassification, DistilBertTokenizerFast, Trainer, TrainingArguments\n",
    "from datasets import load_dataset\n",
    "import torch\n",
    "\n",
    "\n",
    "from sklearn.metrics import precision_recall_fscore_support, accuracy_score, confusion_matrix\n",
    "import numpy as np\n",
    "\n",
    "def compute_metrics(eval_pred):\n",
    "    logits, labels = eval_pred\n",
    "    preds = np.argmax(logits, axis=1)\n",
    "\n",
    "    precision, recall, f1, _ = precision_recall_fscore_support(labels, preds, average=\"binary\")\n",
    "    acc = accuracy_score(labels, preds)\n",
    "    cm = confusion_matrix(labels, preds)\n",
    "\n",
    "    return {\n",
    "        \"accuracy\": acc,\n",
    "        \"precision\": precision,\n",
    "        \"recall\": recall,\n",
    "        \"f1\": f1,\n",
    "        \"confusion_matrix\": cm.tolist()  \n",
    "    }\n",
    "\n",
    "\n",
    "# Load model and tokenizer\n",
    "model = DistilBertForSequenceClassification.from_pretrained(\"./models/distilbert-amazon-sentiment\")\n",
    "tokenizer = DistilBertTokenizerFast.from_pretrained(\"./models/distilbert-amazon-sentiment\")\n",
    "\n",
    "# Load dataset\n",
    "dataset = load_dataset(\"amazon_polarity\")\n",
    "\n",
    "# Make a randomly sampled dataset for test\n",
    "dataset = dataset.shuffle(seed=50)\n",
    "test  = dataset[\"test\"].select(range(1000))\n",
    "\n",
    "test_enc = test.map(lambda e: tokenizer(e[\"content\"], truncation=True, padding=\"max_length\"), batched=True)\n",
    "test_enc.set_format(type=\"torch\", columns=[\"input_ids\", \"attention_mask\", \"label\"])\n",
    "\n",
    "args = TrainingArguments(\n",
    "    output_dir=\"./results\",\n",
    "    report_to=\"none\" \n",
    ")\n",
    "\n",
    "\n",
    "# Evaluate\n",
    "trainer = Trainer(model=model, args=args, compute_metrics=compute_metrics)\n",
    "\n",
    "metrics = trainer.evaluate(test_enc)"
   ]
  },
  {
   "cell_type": "code",
   "execution_count": 2,
   "id": "0a4870ac-caac-43fc-b45d-5d8248cfa9b1",
   "metadata": {},
   "outputs": [
    {
     "name": "stdout",
     "output_type": "stream",
     "text": [
      "{'eval_loss': 0.20707878470420837, 'eval_model_preparation_time': 0.002, 'eval_accuracy': 0.926, 'eval_precision': 0.8979963570127505, 'eval_recall': 0.9647749510763209, 'eval_f1': 0.930188679245283, 'eval_confusion_matrix': [[433, 56], [18, 493]], 'eval_runtime': 16.5318, 'eval_samples_per_second': 60.49, 'eval_steps_per_second': 7.561}\n"
     ]
    }
   ],
   "source": [
    "print(metrics)"
   ]
  },
  {
   "cell_type": "code",
   "execution_count": 3,
   "id": "9573bc76-b5f9-4766-8f03-ee25823ea65c",
   "metadata": {},
   "outputs": [
    {
     "name": "stdout",
     "output_type": "stream",
     "text": [
      "[[433  56]\n",
      " [ 18 493]]\n"
     ]
    },
    {
     "data": {
      "image/png": "[encoded data removed]",
      "text/plain": [
       "<Figure size 640x480 with 2 Axes>"
      ]
     },
     "metadata": {},
     "output_type": "display_data"
    }
   ],
   "source": [
    "import numpy as np\n",
    "import matplotlib.pyplot as plt\n",
    "import seaborn as sns\n",
    "from sklearn.metrics import confusion_matrix, ConfusionMatrixDisplay\n",
    "\n",
    "cm = metrics[\"eval_confusion_matrix\"]\n",
    "\n",
    "CM = np.array([[cm[0][0], cm[0][1]],[cm[1][0], cm[1][1]]])\n",
    "\n",
    "print(CM)\n",
    "\n",
    "\n",
    "disp = ConfusionMatrixDisplay(confusion_matrix=CM, display_labels=['Positive', 'Negative'])\n",
    "disp.plot(cmap=plt.cm.Blues)\n",
    "plt.title('Confusion Matrix')\n",
    "plt.show()\n"
   ]
  },
  {
   "cell_type": "code",
   "execution_count": 4,
   "id": "b946a635-e42f-4a8b-bf8b-a39841539f24",
   "metadata": {},
   "outputs": [
    {
     "name": "stdout",
     "output_type": "stream",
     "text": [
      "Accuracy = 0.926\n",
      "Precission = 0.926\n",
      "Recall = 0.926\n",
      "F1 = 0.926\n"
     ]
    }
   ],
   "source": [
    "print(\"Accuracy = {}\".format(metrics[\"eval_accuracy\"]))\n",
    "print(\"Precission = {}\".format(metrics[\"eval_accuracy\"]))\n",
    "print(\"Recall = {}\".format(metrics[\"eval_accuracy\"]))\n",
    "print(\"F1 = {}\".format(metrics[\"eval_accuracy\"]))"
   ]
  }
 ],
 "metadata": {
  "kernelspec": {
   "display_name": "Chapter1",
   "language": "python",
   "name": "chapter1"
  },
  "language_info": {
   "codemirror_mode": {
    "name": "ipython",
    "version": 3
   },
   "file_extension": ".py",
   "mimetype": "text/x-python",
   "name": "python",
   "nbconvert_exporter": "python",
   "pygments_lexer": "ipython3",
   "version": "3.10.18"
  }
 },
 "nbformat": 4,
 "nbformat_minor": 5
}
